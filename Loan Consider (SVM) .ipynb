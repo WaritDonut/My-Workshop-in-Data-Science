{
 "cells": [
  {
   "cell_type": "code",
   "execution_count": 1,
   "metadata": {},
   "outputs": [],
   "source": [
    "import matplotlib.pyplot as plt\n",
    "import pandas as pd\n",
    "import numpy as np\n",
    "from sklearn import datasets\n",
    "from sklearn.model_selection import train_test_split\n",
    "from sklearn import svm\n",
    "from sklearn.metrics import accuracy_score,precision_score,recall_score,f1_score,confusion_matrix,classification_report,plot_confusion_matrix\n",
    "import warnings\n",
    "warnings.filterwarnings(\"ignore\")"
   ]
  },
  {
   "cell_type": "code",
   "execution_count": 2,
   "metadata": {},
   "outputs": [
    {
     "data": {
      "text/html": [
       "<div>\n",
       "<style scoped>\n",
       "    .dataframe tbody tr th:only-of-type {\n",
       "        vertical-align: middle;\n",
       "    }\n",
       "\n",
       "    .dataframe tbody tr th {\n",
       "        vertical-align: top;\n",
       "    }\n",
       "\n",
       "    .dataframe thead th {\n",
       "        text-align: right;\n",
       "    }\n",
       "</style>\n",
       "<table border=\"1\" class=\"dataframe\">\n",
       "  <thead>\n",
       "    <tr style=\"text-align: right;\">\n",
       "      <th></th>\n",
       "      <th>รายได้ต่อเดือน</th>\n",
       "      <th>สถานะเครดิตบูโร</th>\n",
       "      <th>อายุ</th>\n",
       "      <th>ยอดเงินกู้</th>\n",
       "      <th>ผลอนุมัติเงินกู้</th>\n",
       "    </tr>\n",
       "  </thead>\n",
       "  <tbody>\n",
       "    <tr>\n",
       "      <th>0</th>\n",
       "      <td>20000</td>\n",
       "      <td>ปกติ</td>\n",
       "      <td>25</td>\n",
       "      <td>1000000</td>\n",
       "      <td>อนุมัติ</td>\n",
       "    </tr>\n",
       "    <tr>\n",
       "      <th>1</th>\n",
       "      <td>55000</td>\n",
       "      <td>ปิดบัญชีไม่มีหนี้ค้าง</td>\n",
       "      <td>45</td>\n",
       "      <td>2000000</td>\n",
       "      <td>อนุมัติ</td>\n",
       "    </tr>\n",
       "    <tr>\n",
       "      <th>2</th>\n",
       "      <td>18000</td>\n",
       "      <td>พักชำระหนี้</td>\n",
       "      <td>25</td>\n",
       "      <td>850000</td>\n",
       "      <td>ไม่อนุมัติ</td>\n",
       "    </tr>\n",
       "    <tr>\n",
       "      <th>3</th>\n",
       "      <td>22000</td>\n",
       "      <td>มีหนี้ค้างชำระเกิน 90 วัน</td>\n",
       "      <td>27</td>\n",
       "      <td>1220000</td>\n",
       "      <td>ไม่อนุมัติ</td>\n",
       "    </tr>\n",
       "    <tr>\n",
       "      <th>4</th>\n",
       "      <td>18500</td>\n",
       "      <td>อยู่ในกระบวนการทางกฏหมาย</td>\n",
       "      <td>25</td>\n",
       "      <td>870000</td>\n",
       "      <td>ไม่อนุมัติ</td>\n",
       "    </tr>\n",
       "  </tbody>\n",
       "</table>\n",
       "</div>"
      ],
      "text/plain": [
       "   รายได้ต่อเดือน            สถานะเครดิตบูโร  อายุ  ยอดเงินกู้  \\\n",
       "0           20000                       ปกติ    25     1000000   \n",
       "1           55000      ปิดบัญชีไม่มีหนี้ค้าง    45     2000000   \n",
       "2           18000                พักชำระหนี้    25      850000   \n",
       "3           22000  มีหนี้ค้างชำระเกิน 90 วัน    27     1220000   \n",
       "4           18500   อยู่ในกระบวนการทางกฏหมาย    25      870000   \n",
       "\n",
       "  ผลอนุมัติเงินกู้  \n",
       "0          อนุมัติ  \n",
       "1          อนุมัติ  \n",
       "2       ไม่อนุมัติ  \n",
       "3       ไม่อนุมัติ  \n",
       "4       ไม่อนุมัติ  "
      ]
     },
     "execution_count": 2,
     "metadata": {},
     "output_type": "execute_result"
    }
   ],
   "source": [
    "dataset = pd.read_excel(\"data/LoanConsider.xlsx\")\n",
    "dataset.head()"
   ]
  },
  {
   "cell_type": "code",
   "execution_count": 3,
   "metadata": {},
   "outputs": [
    {
     "data": {
      "text/plain": [
       "(120, 5)"
      ]
     },
     "execution_count": 3,
     "metadata": {},
     "output_type": "execute_result"
    }
   ],
   "source": [
    "dataset.shape"
   ]
  },
  {
   "cell_type": "code",
   "execution_count": 4,
   "metadata": {},
   "outputs": [],
   "source": [
    "dataset[\"สถานะเครดิตบูโร\"] = dataset[\"สถานะเครดิตบูโร\"].map(\n",
    "                       {\"ปกติ\": 1,\n",
    "                       \"ปิดบัญชีไม่มีหนี้ค้าง\": 1,\n",
    "                       \"พักชำระหนี้\": 2,\n",
    "                       \"มีหนี้ค้างชำระเกิน 90 วัน\": 2,\n",
    "                       \"อยู่ในกระบวนการทางกฏหมาย\": 2,\n",
    "                       \"อยู่ในระหว่างชำระหนี้ตามคำพิพากษาตามยอม\": 2,\n",
    "                       \"ศาลพิพากษายกฟ้อง เพราะคดีขาดอายุความ\": 2,\n",
    "                       \"ปิดบัญชีตัดหนี้เป็นสูญ\": 2,\n",
    "                       \"อยู่ระหว่างชำระสินเชื่อเพื่อปิดบัญชี\": 1,\n",
    "                       \"เจ้าของบัญชีขอตรวจสอบรายการ\": 2,\n",
    "                       \"โอนหรือขายหนี้\": 1,\n",
    "                       \"ปิดบัญชีขณะโอนหรือขายหนี้\": 1})"
   ]
  },
  {
   "cell_type": "code",
   "execution_count": null,
   "metadata": {},
   "outputs": [],
   "source": [
    "dataset[\"Approve result\"] = dataset[\"ผลอนุมัติเงินกู้\"].map({\"อนุมัติ\": 1, \"ไม่อนุมัติ\": 0})"
   ]
  },
  {
   "cell_type": "code",
   "execution_count": 5,
   "metadata": {},
   "outputs": [],
   "source": [
    "# set up columns \"ผลอนุมัติเงินกู้\"\n",
    "\n",
    "dataset[\"ผลอนุมัติเงินกู้\"] = dataset[\"ผลอนุมัติเงินกู้\"].map({\"อนุมัติ\": 1, \"ไม่อนุมัติ\": 0})"
   ]
  },
  {
   "cell_type": "markdown",
   "metadata": {},
   "source": [
    "* Train and Test Model"
   ]
  },
  {
   "cell_type": "code",
   "execution_count": 6,
   "metadata": {},
   "outputs": [],
   "source": [
    "X = dataset.iloc[:,:-1]\n",
    "y = dataset.iloc[:,-1:]\n",
    "\n",
    "X_train, X_test, y_train, y_test = train_test_split(X,y,test_size=0.3,random_state=6)\n",
    "\n",
    "model_svc = svm.SVC(kernel=\"rbf\")\n",
    "classifier = model_svc.fit(X_train, y_train.values.ravel())\n",
    "\n",
    "ypred_test = model_svc.predict(X_test)\n",
    "acc = format(accuracy_score(y_test, ypred_test), \"0.2%\")\n",
    "\n",
    "labels = [\"Not Approve\",\"Approve\"]\n",
    "data = [[48000,2,25,500000],[35000,1,25,1700000]]\n",
    "predict_result = model_svc.predict(data)\n",
    "plt.show()"
   ]
  },
  {
   "cell_type": "code",
   "execution_count": 9,
   "metadata": {},
   "outputs": [
    {
     "name": "stdout",
     "output_type": "stream",
     "text": [
      "[48000, 2, 25, 500000]  :  Not Approve\n",
      "[35000, 1, 25, 1700000]  :  Approve\n",
      "Model  :  66.67%\n"
     ]
    }
   ],
   "source": [
    "i = 0\n",
    "for result in predict_result:\n",
    "    print(data[i],\" : \", labels[result])\n",
    "    i = i+1\n",
    "\n",
    "print(\"Model performance : \", acc)"
   ]
  },
  {
   "cell_type": "code",
   "execution_count": 8,
   "metadata": {},
   "outputs": [
    {
     "name": "stdout",
     "output_type": "stream",
     "text": [
      "[[17  9]\n",
      " [ 3  7]]\n",
      "              precision    recall  f1-score   support\n",
      "\n",
      "           0       0.85      0.65      0.74        26\n",
      "           1       0.44      0.70      0.54        10\n",
      "\n",
      "    accuracy                           0.67        36\n",
      "   macro avg       0.64      0.68      0.64        36\n",
      "weighted avg       0.74      0.67      0.68        36\n",
      "\n"
     ]
    },
    {
     "data": {
      "image/png": "[encoded data removed]",
      "text/plain": [
       "<Figure size 432x288 with 2 Axes>"
      ]
     },
     "metadata": {
      "needs_background": "light"
     },
     "output_type": "display_data"
    }
   ],
   "source": [
    "# plot confusion matrix\n",
    "\n",
    "disp = plot_confusion_matrix(classifier, X_test, y_test,\n",
    "                                 display_labels=labels,\n",
    "                                 cmap=plt.cm.Blues)\n",
    "print(disp.confusion_matrix)\n",
    "print(classification_report(y_test,ypred_test))\n",
    "plt.show()"
   ]
  },
  {
   "cell_type": "code",
   "execution_count": null,
   "metadata": {},
   "outputs": [],
   "source": []
  }
 ],
 "metadata": {
  "kernelspec": {
   "display_name": "Python 3",
   "language": "python",
   "name": "python3"
  },
  "language_info": {
   "codemirror_mode": {
    "name": "ipython",
    "version": 3
   },
   "file_extension": ".py",
   "mimetype": "text/x-python",
   "name": "python",
   "nbconvert_exporter": "python",
   "pygments_lexer": "ipython3",
   "version": "3.8.0"
  }
 },
 "nbformat": 4,
 "nbformat_minor": 4
}
