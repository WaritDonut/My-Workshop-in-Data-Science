{
 "cells": [
  {
   "cell_type": "code",
   "execution_count": 2,
   "metadata": {},
   "outputs": [],
   "source": [
    "import matplotlib.pyplot as plt\n",
    "import pandas as pd\n",
    "import numpy as np\n",
    "from sklearn import datasets\n",
    "from sklearn.model_selection import train_test_split\n",
    "from sklearn.neighbors import KNeighborsClassifier\n",
    "from sklearn.metrics import accuracy_score,classification_report,plot_confusion_matrix\n",
    "from sklearn.decomposition import PCA\n",
    "from PIL import Image\n",
    "import warnings\n",
    "warnings.filterwarnings(\"ignore\")"
   ]
  },
  {
   "cell_type": "code",
   "execution_count": 3,
   "metadata": {},
   "outputs": [],
   "source": [
    "# PCA\n",
    "fw_people = datasets.fetch_lfw_people(min_faces_per_person=80, resize=0.4)\n",
    "n_samples, h_pix, w_pix = fw_people.images.shape\n",
    "X_train, X_test, y_train, y_test = train_test_split(fw_people.data,fw_people.target,test_size=0.3,random_state=8)\n",
    "\n",
    "n_components = 100\n",
    "pca = PCA(n_components=n_components, whiten=True).fit(X_train)"
   ]
  },
  {
   "cell_type": "code",
   "execution_count": 4,
   "metadata": {},
   "outputs": [
    {
     "name": "stdout",
     "output_type": "stream",
     "text": [
      "(798, 100)\n"
     ]
    }
   ],
   "source": [
    "#PCA X_train & X_test\n",
    "\n",
    "X_train_pca = pca.transform(X_train)\n",
    "X_test_pca = pca.transform(X_test)\n",
    "print(X_train_pca.shape) #(798,100)"
   ]
  },
  {
   "cell_type": "code",
   "execution_count": 5,
   "metadata": {},
   "outputs": [
    {
     "name": "stdout",
     "output_type": "stream",
     "text": [
      "Accuracy:  74.85%\n"
     ]
    }
   ],
   "source": [
    "neighbors = fw_people.target_names.size\n",
    "model_knn = KNeighborsClassifier(n_neighbors=neighbors)\n",
    "classifier = model_knn.fit(X_train_pca, y_train)\n",
    "\n",
    "ypred_test = model_knn.predict(X_test_pca)\n",
    "class_names = fw_people.target_names\n",
    "\n",
    "acc = format(accuracy_score(y_test, ypred_test), '0.2%')\n",
    "print(\"Accuracy: \",acc)"
   ]
  },
  {
   "cell_type": "code",
   "execution_count": 6,
   "metadata": {},
   "outputs": [],
   "source": [
    "#read image to predict\n",
    "img = Image.open(\"ColinPowell.png\")\n",
    "#img = Image.open(\"bush.png\")"
   ]
  },
  {
   "cell_type": "code",
   "execution_count": 7,
   "metadata": {},
   "outputs": [],
   "source": [
    "#resize to same dimension\n",
    "resized_img = img.resize((h_pix, w_pix)).convert(\"L\")"
   ]
  },
  {
   "cell_type": "code",
   "execution_count": 8,
   "metadata": {},
   "outputs": [
    {
     "name": "stdout",
     "output_type": "stream",
     "text": [
      "(1, 100)\n"
     ]
    }
   ],
   "source": [
    "#prepare data for predict\n",
    "img_data = np.asarray(resized_img)\n",
    "img_data = np.array(img_data).reshape(1, -1)#(1,1850)\n",
    "img_pca = pca.transform(img_data)#(1,150)\n",
    "print(img_pca.shape)\n"
   ]
  },
  {
   "cell_type": "code",
   "execution_count": 9,
   "metadata": {},
   "outputs": [
    {
     "name": "stdout",
     "output_type": "stream",
     "text": [
      "Picture of  ['Colin Powell']\n"
     ]
    }
   ],
   "source": [
    "#predict\n",
    "\n",
    "output_class = model_knn.predict(img_pca)\n",
    "#print(output_class)\n",
    "print(\"Picture of \",class_names[output_class])"
   ]
  },
  {
   "cell_type": "code",
   "execution_count": 10,
   "metadata": {},
   "outputs": [
    {
     "name": "stdout",
     "output_type": "stream",
     "text": [
      "[[ 48   3   4   2   6]\n",
      " [  6  19  12   0   3]\n",
      " [  5   8 158   1   3]\n",
      " [  6   1   7   9   4]\n",
      " [  1   1  12   1  22]]\n",
      "              precision    recall  f1-score   support\n",
      "\n",
      "           0       0.73      0.76      0.74        63\n",
      "           1       0.59      0.47      0.53        40\n",
      "           2       0.82      0.90      0.86       175\n",
      "           3       0.69      0.33      0.45        27\n",
      "           4       0.58      0.59      0.59        37\n",
      "\n",
      "    accuracy                           0.75       342\n",
      "   macro avg       0.68      0.61      0.63       342\n",
      "weighted avg       0.74      0.75      0.74       342\n",
      "\n"
     ]
    },
    {
     "data": {
      "image/png": "[encoded data removed]",
      "text/plain": [
       "<Figure size 432x288 with 2 Axes>"
      ]
     },
     "metadata": {
      "needs_background": "light"
     },
     "output_type": "display_data"
    }
   ],
   "source": [
    "#print confusion matrix and classification report\n",
    "\n",
    "disp = plot_confusion_matrix(classifier, X_test_pca, y_test,\n",
    "                                 display_labels=class_names,\n",
    "                                 cmap=plt.cm.Blues)\n",
    "print(disp.confusion_matrix)\n",
    "print(classification_report(y_test,ypred_test))"
   ]
  },
  {
   "cell_type": "code",
   "execution_count": null,
   "metadata": {},
   "outputs": [],
   "source": []
  }
 ],
 "metadata": {
  "kernelspec": {
   "display_name": "Python 3",
   "language": "python",
   "name": "python3"
  },
  "language_info": {
   "codemirror_mode": {
    "name": "ipython",
    "version": 3
   },
   "file_extension": ".py",
   "mimetype": "text/x-python",
   "name": "python",
   "nbconvert_exporter": "python",
   "pygments_lexer": "ipython3",
   "version": "3.8.0"
  }
 },
 "nbformat": 4,
 "nbformat_minor": 4
}
